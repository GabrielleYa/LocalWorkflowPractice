{
 "cells": [
  {
   "cell_type": "code",
   "execution_count": 1,
   "id": "21a6cb5e-8e38-442e-b279-236f34babd73",
   "metadata": {},
   "outputs": [],
   "source": [
    "import os, time, json\n",
    "import tmdbsimple as tmdb\n",
    "import pandas as pd\n",
    "import seaborn as sns\n",
    "import matplotlib.pyplot as plt\n",
    "from tqdm.notebook import tqdm_notebook\n",
    "from matplotlib.ticker import FuncFormatter\n",
    "import numpy as np\n",
    "import scipy.stats as stats\n",
    "FOLDER = \"Data/\"\n",
    "os.makedirs(FOLDER, exist_ok=True)\n",
    "os.listdir(FOLDER)\n",
    "from tqdm.notebook import tqdm_notebook\n",
    "pd.options.display.float_format = '{:,.2f}'.format"
   ]
  },
  {
   "cell_type": "code",
   "execution_count": 2,
   "id": "5db94ac2-08a2-4fbc-ac90-e646dbd3c614",
   "metadata": {},
   "outputs": [],
   "source": [
    "tmdb.API_KEY = \"2e7e239c25274c3cdc1060a9df22dfc7\""
   ]
  },
  {
   "cell_type": "code",
   "execution_count": 4,
   "id": "2a966e44-d219-4f1c-817f-22c88917f455",
   "metadata": {},
   "outputs": [
    {
     "data": {
      "text/html": [
       "<div>\n",
       "<style scoped>\n",
       "    .dataframe tbody tr th:only-of-type {\n",
       "        vertical-align: middle;\n",
       "    }\n",
       "\n",
       "    .dataframe tbody tr th {\n",
       "        vertical-align: top;\n",
       "    }\n",
       "\n",
       "    .dataframe thead th {\n",
       "        text-align: right;\n",
       "    }\n",
       "</style>\n",
       "<table border=\"1\" class=\"dataframe\">\n",
       "  <thead>\n",
       "    <tr style=\"text-align: right;\">\n",
       "      <th></th>\n",
       "      <th>Unnamed: 0</th>\n",
       "      <th>tconst</th>\n",
       "      <th>titleType</th>\n",
       "      <th>primaryTitle</th>\n",
       "      <th>originalTitle</th>\n",
       "      <th>isAdult</th>\n",
       "      <th>startYear</th>\n",
       "      <th>endYear</th>\n",
       "      <th>runtimeMinutes</th>\n",
       "      <th>genres</th>\n",
       "    </tr>\n",
       "  </thead>\n",
       "  <tbody>\n",
       "    <tr>\n",
       "      <th>0</th>\n",
       "      <td>33802</td>\n",
       "      <td>tt0034413</td>\n",
       "      <td>short</td>\n",
       "      <td>Youth Gets a Break</td>\n",
       "      <td>Youth Gets a Break</td>\n",
       "      <td>0</td>\n",
       "      <td>2,001.00</td>\n",
       "      <td>NaN</td>\n",
       "      <td>20</td>\n",
       "      <td>Short</td>\n",
       "    </tr>\n",
       "    <tr>\n",
       "      <th>1</th>\n",
       "      <td>34802</td>\n",
       "      <td>tt0035423</td>\n",
       "      <td>movie</td>\n",
       "      <td>Kate &amp; Leopold</td>\n",
       "      <td>Kate &amp; Leopold</td>\n",
       "      <td>0</td>\n",
       "      <td>2,001.00</td>\n",
       "      <td>NaN</td>\n",
       "      <td>118</td>\n",
       "      <td>Comedy,Fantasy,Romance</td>\n",
       "    </tr>\n",
       "    <tr>\n",
       "      <th>2</th>\n",
       "      <td>39544</td>\n",
       "      <td>tt0040241</td>\n",
       "      <td>short</td>\n",
       "      <td>Color Rhapsodie</td>\n",
       "      <td>Color Rhapsodie</td>\n",
       "      <td>0</td>\n",
       "      <td>2,021.00</td>\n",
       "      <td>NaN</td>\n",
       "      <td>6</td>\n",
       "      <td>Short</td>\n",
       "    </tr>\n",
       "    <tr>\n",
       "      <th>3</th>\n",
       "      <td>43546</td>\n",
       "      <td>tt0044326</td>\n",
       "      <td>short</td>\n",
       "      <td>Abstronic</td>\n",
       "      <td>Abstronic</td>\n",
       "      <td>0</td>\n",
       "      <td>2,021.00</td>\n",
       "      <td>NaN</td>\n",
       "      <td>6</td>\n",
       "      <td>Short</td>\n",
       "    </tr>\n",
       "    <tr>\n",
       "      <th>4</th>\n",
       "      <td>49493</td>\n",
       "      <td>tt0050396</td>\n",
       "      <td>short</td>\n",
       "      <td>Final Curtain</td>\n",
       "      <td>Final Curtain</td>\n",
       "      <td>0</td>\n",
       "      <td>2,012.00</td>\n",
       "      <td>NaN</td>\n",
       "      <td>20</td>\n",
       "      <td>Horror,Short</td>\n",
       "    </tr>\n",
       "  </tbody>\n",
       "</table>\n",
       "</div>"
      ],
      "text/plain": [
       "   Unnamed: 0     tconst titleType        primaryTitle       originalTitle  \\\n",
       "0       33802  tt0034413     short  Youth Gets a Break  Youth Gets a Break   \n",
       "1       34802  tt0035423     movie      Kate & Leopold      Kate & Leopold   \n",
       "2       39544  tt0040241     short     Color Rhapsodie     Color Rhapsodie   \n",
       "3       43546  tt0044326     short           Abstronic           Abstronic   \n",
       "4       49493  tt0050396     short       Final Curtain       Final Curtain   \n",
       "\n",
       "   isAdult  startYear  endYear  runtimeMinutes                  genres  \n",
       "0        0   2,001.00      NaN              20                   Short  \n",
       "1        0   2,001.00      NaN             118  Comedy,Fantasy,Romance  \n",
       "2        0   2,021.00      NaN               6                   Short  \n",
       "3        0   2,021.00      NaN               6                   Short  \n",
       "4        0   2,012.00      NaN              20            Horror,Short  "
      ]
     },
     "execution_count": 4,
     "metadata": {},
     "output_type": "execute_result"
    }
   ],
   "source": [
    "# Load data\n",
    "basics=pd.read_csv('Data/refined_basics.csv')\n",
    "basics.head()"
   ]
  },
  {
   "cell_type": "code",
   "execution_count": 5,
   "id": "c771ea1a-21f8-43c7-8941-d19ab6b8d00c",
   "metadata": {},
   "outputs": [
    {
     "data": {
      "text/plain": [
       "[]"
      ]
     },
     "execution_count": 5,
     "metadata": {},
     "output_type": "execute_result"
    }
   ],
   "source": [
    "FOLDER=\"Data/Hypothesis_Testing_data/\"\n",
    "os.makedirs(FOLDER, exist_ok=True)\n",
    "os.listdir(FOLDER)"
   ]
  },
  {
   "cell_type": "code",
   "execution_count": 6,
   "id": "2a219230-a865-4cc2-8836-4de13767ab30",
   "metadata": {},
   "outputs": [],
   "source": [
    "def get_movie_with_rating(movie_id):\n",
    "    movie = tmdb.Movies(movie_id)\n",
    "    \n",
    "    movie_info = movie.info()\n",
    "    releases = movie.releases()\n",
    "    \n",
    "    for c in releases['countries']:\n",
    "        if c['iso_3166_1' ] =='US':\n",
    "            movie_info['certification'] = c['certification']\n",
    "    return movie_info\n",
    "\n",
    "\n",
    "def write_json(new_data, filename): \n",
    "    \"\"\"Appends a list of records (new_data) to a json file (filename). \n",
    "    Adapted from: https://www.geeksforgeeks.org/append-to-json-file-using-python/\"\"\"  \n",
    "    \n",
    "    with open(filename,'r+') as file:\n",
    "        file_data = json.load(file)\n",
    "        if (type(new_data) == list) & (type(file_data) == list):\n",
    "            file_data.extend(new_data)\n",
    "        else:\n",
    "             file_data.append(new_data)\n",
    "        file.seek(0)\n",
    "        json.dump(file_data, file)"
   ]
  },
  {
   "cell_type": "markdown",
   "id": "2bc0323c-2ec7-4e45-8dd9-59b6d351f413",
   "metadata": {},
   "source": [
    "#### Decided to get the most recent 5-year movie data"
   ]
  },
  {
   "cell_type": "code",
   "execution_count": 7,
   "id": "1ec4d16e-1fe7-4450-9f8a-fb7aea20a1e5",
   "metadata": {},
   "outputs": [],
   "source": [
    "YEARS_TO_GET=list(range(2018, 2023))"
   ]
  },
  {
   "cell_type": "code",
   "execution_count": null,
   "id": "3f2be87a-43e7-4899-8914-9c7d1987c305",
   "metadata": {},
   "outputs": [
    {
     "data": {
      "application/vnd.jupyter.widget-view+json": {
       "model_id": "3928f0b5eb4446be814101bd9d42b994",
       "version_major": 2,
       "version_minor": 0
      },
      "text/plain": [
       "YEARS:   0%|          | 0/5 [00:00<?, ?it/s]"
      ]
     },
     "metadata": {},
     "output_type": "display_data"
    },
    {
     "name": "stdout",
     "output_type": "stream",
     "text": [
      "CreatingData/Hypothesis_Testing_data/tmdb_api_results_2018.json for API results for year = 2018.\n"
     ]
    },
    {
     "data": {
      "application/vnd.jupyter.widget-view+json": {
       "model_id": "f4cd60b9673644c49afd22fdc68b4037",
       "version_major": 2,
       "version_minor": 0
      },
      "text/plain": [
       "Movies from 2018:   0%|          | 0/41823 [00:00<?, ?it/s]"
      ]
     },
     "metadata": {},
     "output_type": "display_data"
    }
   ],
   "source": [
    "for YEAR in tqdm_notebook(YEARS_TO_GET, desc='YEARS', position=0):\n",
    "    JSON_FILE_YEAR = f'{FOLDER}tmdb_api_results_{YEAR}.json'\n",
    "    file_exists = os.path.isfile(JSON_FILE_YEAR)\n",
    "\n",
    "    if file_exists == False:\n",
    "        print(f'Creating{JSON_FILE_YEAR} for API results for year = {YEAR}.')\n",
    "        with open (JSON_FILE_YEAR, 'w') as f:\n",
    "            json.dump([{'imdb_id':0}],f)\n",
    "\n",
    "    else:\n",
    "        print(f'The file {JSON_FILE_YEAR} already exists.')\n",
    "\n",
    "    df_year = basics.loc[basics['startYear'] == YEAR].copy()\n",
    "    movie_ids = df_year['tconst']\n",
    "        \n",
    "        # Create an empty list to store movie information\n",
    "    movie_info_list = []\n",
    "    errors=[]    \n",
    "        # Iterate over movie IDs for the current year\n",
    "    for movie_id in tqdm_notebook(movie_ids, f'Movies from {YEAR}'):\n",
    "        try:\n",
    "            temp = get_movie_with_rating(movie_id)\n",
    "            movie_info_list.append(temp)\n",
    "            time.sleep(0.02)\n",
    "        except Exception as e:\n",
    "            errors.append([movie_id, e])\n",
    "        \n",
    "        # Write the movie information to the JSON file\n",
    "    write_json(movie_info_list, JSON_FILE_YEAR)\n",
    "\n",
    "    final_year_df2 = pd.read_json(JSON_FILE_YEAR)\n",
    "    csv_fname = f'{FOLDER}final_tmdb_data_{YEAR}.csv.gz'\n",
    "    final_year_df2.to_csv(csv_fname, compression='gzip', index=False)"
   ]
  },
  {
   "cell_type": "markdown",
   "id": "785a3891-2930-485d-a146-6f8ecd8cf663",
   "metadata": {},
   "source": [
    "#### Combine All API results"
   ]
  },
  {
   "cell_type": "code",
   "execution_count": null,
   "id": "3a2eadd9-652e-42c1-b4cb-835edbf8339b",
   "metadata": {},
   "outputs": [],
   "source": [
    "import glob\n",
    "tmdb_files = sorted(glob.glob('Data/Hypothesis_Testing_data/final_tmdb_data*.csv.gz'))\n",
    "tmdb_files"
   ]
  },
  {
   "cell_type": "code",
   "execution_count": null,
   "id": "2b598da6-3840-44bd-ae22-d9d804b2d1bd",
   "metadata": {},
   "outputs": [],
   "source": [
    "# Combine with concat to load all files\n",
    "df=pd.concat([pd.read_csv(f, lineterminator='\\n') for f in tmdb_files])"
   ]
  },
  {
   "cell_type": "code",
   "execution_count": null,
   "id": "8539c0d6-ec8e-4087-82dd-9eef0af77f85",
   "metadata": {},
   "outputs": [],
   "source": [
    "df.info()"
   ]
  },
  {
   "cell_type": "code",
   "execution_count": null,
   "id": "f32489ed-fd99-42e0-9ba5-452b086f7cf9",
   "metadata": {},
   "outputs": [],
   "source": [
    "fname = f'Data/tmdb_results_combined2018_2022.csv.gz'\n",
    "df.to_csv(fname, compression='gzip',index=False)"
   ]
  },
  {
   "cell_type": "code",
   "execution_count": null,
   "id": "da1a38c3-1ded-412d-b50f-e8c3e4fb9f35",
   "metadata": {},
   "outputs": [],
   "source": [
    "df.head(3)"
   ]
  },
  {
   "cell_type": "markdown",
   "id": "e60f9044-ebe2-4cee-9d46-447fbc4393cf",
   "metadata": {},
   "source": [
    "## Hypothesis Testing"
   ]
  },
  {
   "cell_type": "markdown",
   "id": "bea54445-fb4f-446a-86ab-58a91b106225",
   "metadata": {},
   "source": [
    "### Does the MPAA rating of a movie (G/PG/PG-13/R) affect how much revenue the movie generates?"
   ]
  },
  {
   "cell_type": "markdown",
   "id": "555581ef-fb55-4ed1-a5ee-eeef8a6e92da",
   "metadata": {},
   "source": [
    "##### State the Hypothesis and Null Hypothesis\r",
    "- \r\n",
    "Null Hypothesis: The MPAA ratings of a movie have NO effect on revenue the movie generate\n",
    "\n",
    "\n",
    "- .\r\n",
    "Alternative Hypothesis: The MPAA ratings of a movie affect the revenue the movie generates."
   ]
  },
  {
   "cell_type": "code",
   "execution_count": null,
   "id": "fe01a673-88cd-4e64-8462-1f483aa8669e",
   "metadata": {},
   "outputs": [],
   "source": [
    "# Droping row with nulls in Certification and Revenue\n",
    "df_h=df.dropna(subset=['revenue','certification'])"
   ]
  },
  {
   "cell_type": "code",
   "execution_count": null,
   "id": "376a8a0e-f47a-4143-b5fb-eaa52a54b9bf",
   "metadata": {},
   "outputs": [],
   "source": [
    "fi,ax = plt.subplots(figsize=(10,6))\n",
    "sns.barplot(data=df_h,x='certification',y='revenue')\n",
    "formatter = FuncFormatter(lambda x, _: f\"${int(x / 1e6):,}M\")\n",
    "ax.yaxis.set_major_formatter(formatter);"
   ]
  },
  {
   "cell_type": "markdown",
   "id": "4ec0b61a-8bed-448a-80ba-48b70d48807f",
   "metadata": {},
   "source": [
    "- Date type: Numeric\r\n",
    "- \n",
    "More than 2 groups/samples (6 groups)\r\n",
    "Choose to use ANOVA for hypothesis testing\r\n",
    "\r\n",
    "Assumptions of ANOV- A:\r\n",
    "\r\n",
    "No significant out\n",
    "- liers\r\n",
    "Equal v\n",
    "- riance\r\n",
    "Normality"
   ]
  },
  {
   "cell_type": "markdown",
   "id": "c725ff52-e33d-49b0-ad06-3a99c4958fb7",
   "metadata": {},
   "source": [
    "### Testing ANOVA Assumptions"
   ]
  },
  {
   "cell_type": "code",
   "execution_count": null,
   "id": "eca40290-f0cd-43e8-bf66-b616f421c89b",
   "metadata": {},
   "outputs": [],
   "source": [
    "# Create groups dicts\n",
    "groups = {}\n",
    "\n",
    "# Loop through all unique categories\n",
    "for certification in df_h['certification'].unique():\n",
    "    data = df_h.loc[df_h['certification']==certification,'revenue'].copy()\n",
    "    groups[certification]=data\n",
    "\n",
    "groups.keys()"
   ]
  },
  {
   "cell_type": "markdown",
   "id": "3300cc1c-d4f4-4631-ae8c-a2052cb6a36b",
   "metadata": {},
   "source": [
    "## Check for Outliers"
   ]
  },
  {
   "cell_type": "code",
   "execution_count": null,
   "id": "9399439c-1658-46c8-8b5e-eabff4b91c88",
   "metadata": {},
   "outputs": [],
   "source": [
    "groups_clean= {}\n",
    "\n",
    "for group,data in groups.items():\n",
    "    outliers=np.abs(stats.zscore(data))>3\n",
    "    n_outliers=np.sum(outliers)\n",
    "\n",
    "    print(f\"- For {group}, there were {n_outliers} outliers removed.\")\n",
    "    clean_data = data[~outliers]\n",
    "    groups_clean[group] = clean_data\n",
    "\n",
    "groups_clean.keys()"
   ]
  },
  {
   "cell_type": "markdown",
   "id": "0b4809d9-5e4b-477b-9e27-a668bcf974b0",
   "metadata": {},
   "source": [
    "## Check for Normality"
   ]
  },
  {
   "cell_type": "code",
   "execution_count": null,
   "id": "c8157021-2639-4439-87b2-381aab5f21c5",
   "metadata": {},
   "outputs": [],
   "source": [
    "norm_results=[]\n",
    "for group, data in groups_clean.items():\n",
    "    stat,p=stats.normaltest(data)\n",
    "    norm_results.append({'group':group,'n':len(data),'p':p,'test stat':stat,'sig?':p<0.05})\n",
    "norm_results_df=pd.DataFrame(norm_results)\n",
    "norm_results_df"
   ]
  },
  {
   "cell_type": "markdown",
   "id": "424726ea-46c1-43f3-8b4f-2f169d002be0",
   "metadata": {},
   "source": [
    "- None of the groups are normally distributed, BUT our groups are greater than n=15 so we can safely disregard the assumption of normality."
   ]
  },
  {
   "cell_type": "markdown",
   "id": "65b855d3-9fc7-451d-9a45-6f26fa5ce5bf",
   "metadata": {},
   "source": [
    "### Test for Equal Variance"
   ]
  },
  {
   "cell_type": "code",
   "execution_count": null,
   "id": "3dac0109-10e5-449b-b90e-17d485d6ddce",
   "metadata": {},
   "outputs": [],
   "source": [
    "res = stats.levene(*groups_clean.values())\n",
    "res"
   ]
  },
  {
   "cell_type": "markdown",
   "id": "97342cf5-f388-41df-8373-4921122b51c7",
   "metadata": {},
   "source": [
    "- The null hypothiese of the Levene's test is that the samples DO have equal variance\r",
    "- \n",
    "Therefore, our significant p-value indicates that we do NOT have equal varince\n",
    "- \r\n",
    "Therefore we will run the Kruskal-Wallis test instead of the ANOVA test."
   ]
  },
  {
   "cell_type": "markdown",
   "id": "5ff7e9cd-370b-4546-bf53-0125bbc38183",
   "metadata": {},
   "source": [
    "### Final Hypothiese Test"
   ]
  },
  {
   "cell_type": "code",
   "execution_count": null,
   "id": "c89172ee-7caf-4e45-9d17-42e2027c7082",
   "metadata": {},
   "outputs": [],
   "source": [
    "res = stats.kruskal(*groups_clean.values())\n",
    "res"
   ]
  },
  {
   "cell_type": "code",
   "execution_count": null,
   "id": "aacb4b07-843e-4bff-9881-74476c729ec6",
   "metadata": {},
   "outputs": [],
   "source": [
    "res.pvalue<0.05"
   ]
  },
  {
   "cell_type": "markdown",
   "id": "66005047-1083-42d6-ad96-48e813d3679b",
   "metadata": {},
   "source": [
    "- Our p-value is less than alpha 0.05, so in conclusion the MPAA ratings of a movie DOES affect the revenue the movie generates."
   ]
  },
  {
   "cell_type": "markdown",
   "id": "e2909cd5-41f8-4800-b970-e72b450b7c93",
   "metadata": {},
   "source": [
    "### Do movies that are over 2.5 hours(150mins) long earn more revenue than movies that are 1.5 hours (90mins)long (or less)?"
   ]
  },
  {
   "cell_type": "markdown",
   "id": "6a06c48b-8bf8-4de8-8e77-ba4f6c72fb16",
   "metadata": {},
   "source": [
    " State the Hypothesis and Null Hypothesis\r\n",
    "- \r\n",
    "Null Hypothesis: Movies over 150 minutes earn the same revenue as the movies that are less than 90 minutes long\n",
    "- .\r\n",
    "Alternative Hypothesis: There is a dfferent in revenue between movies that are over 150 minutes and movies that are less than 90 minutes long."
   ]
  },
  {
   "cell_type": "code",
   "execution_count": null,
   "id": "67f5852d-a706-4468-a35d-5deea7768339",
   "metadata": {},
   "outputs": [],
   "source": [
    "# Dropping rows with null values in 'revenue' and 'runtime' columns.\n",
    "df_2=df.dropna(subset=['revenue', 'runtime'])"
   ]
  },
  {
   "cell_type": "code",
   "execution_count": null,
   "id": "5ede0716-620e-4a20-a004-c229572eccaf",
   "metadata": {},
   "outputs": [],
   "source": [
    "# Create df for 2 groups\n",
    "movie_over=df_2.loc[df_2['runtime']>150].copy()\n",
    "movie_less=df_2.loc[df_2['runtime']<90].copy()\n",
    "movie_150=movie_over['revenue']\n",
    "movie_90=movie_less['revenue']"
   ]
  },
  {
   "cell_type": "code",
   "execution_count": null,
   "id": "658acc3a-12c9-46d8-8c10-a8a1844e029f",
   "metadata": {},
   "outputs": [],
   "source": [
    "combined_df = pd.concat([movie_over, movie_less], ignore_index=True)\n",
    "combined_df['movie_over150']=combined_df['runtime']>150"
   ]
  },
  {
   "cell_type": "code",
   "execution_count": null,
   "id": "688f3477-6c4b-4ff2-9b71-eb70b6194da9",
   "metadata": {},
   "outputs": [],
   "source": [
    "combined_df['movie_over150'].value_counts()"
   ]
  },
  {
   "cell_type": "code",
   "execution_count": null,
   "id": "14464303-61fa-4f73-9cc5-d1665955e61b",
   "metadata": {},
   "outputs": [],
   "source": [
    "combined_df.info()"
   ]
  },
  {
   "cell_type": "code",
   "execution_count": null,
   "id": "2726763a-2312-4513-a647-8353848d8014",
   "metadata": {},
   "outputs": [],
   "source": [
    "# Visualizing Sample means\n",
    "fig, ax = plt.subplots(figsize= (12,4))\n",
    "## Barplot\n",
    "sns.barplot(data=combined_df, x='movie_over150',y='revenue')\n",
    "fig.suptitle('Charges for smokers vs. nons-smokers',fontsize='xx-large')\n",
    "formatter = FuncFormatter(lambda x, _: f\"${int(x / 1e6):,}M\")\n",
    "ax.yaxis.set_major_formatter(formatter);"
   ]
  },
  {
   "cell_type": "markdown",
   "id": "36417f44-0ded-4f15-8c27-93a883012c7f",
   "metadata": {},
   "source": [
    "- Date type: Numeric\r",
    "- \n",
    "2 groups/samples\n",
    "\r\n",
    "Choose to use 2 sample ttest for hypothesis testing\r\n",
    "\r\n",
    "Assumptions of 2-sample T-Tes- t:\r\n",
    "\r\n",
    "No significant out\n",
    "- liers\r\n",
    "Nor\n",
    "- mality\r\n",
    "Equal Variance"
   ]
  },
  {
   "cell_type": "markdown",
   "id": "36c3718f-0f02-474f-81a9-c5e6efae50cc",
   "metadata": {},
   "source": [
    "### Testing 2-sample T-test Assumptions\r\n",
    "#### \n",
    "Check for Outliers"
   ]
  },
  {
   "cell_type": "code",
   "execution_count": null,
   "id": "cd50f4e0-23fe-4cae-8342-0d140c8ed081",
   "metadata": {},
   "outputs": [],
   "source": [
    "#Find and remove outliers for movies over 150mins\n",
    "zscores=stats.zscore(movie_150)\n",
    "outliers=abs(zscores)>3\n",
    "np.sum(outliers)"
   ]
  },
  {
   "cell_type": "code",
   "execution_count": null,
   "id": "7d4cbc46-3fe5-4862-a269-29353d8cd327",
   "metadata": {},
   "outputs": [],
   "source": [
    "movie_150=movie_150[~outliers]"
   ]
  },
  {
   "cell_type": "code",
   "execution_count": null,
   "id": "e7456190-805a-414c-85a8-a5a87cf9eefe",
   "metadata": {},
   "outputs": [],
   "source": [
    "#Find and remove outliers for movies less than 90mins\n",
    "zscores=stats.zscore(movie_90)\n",
    "outliers=abs(zscores)>3\n",
    "np.sum(outliers)"
   ]
  },
  {
   "cell_type": "code",
   "execution_count": null,
   "id": "8f088bda-be8e-4b95-86b5-99d0e110142a",
   "metadata": {},
   "outputs": [],
   "source": [
    "movie_90=movie_90[~outliers]"
   ]
  },
  {
   "cell_type": "markdown",
   "id": "485e4afe-0b33-4daf-87d9-08692e8a3aa8",
   "metadata": {},
   "source": [
    "### Check for Normality"
   ]
  },
  {
   "cell_type": "code",
   "execution_count": null,
   "id": "42520a84-8bb3-456e-bb49-8cd876a8da4c",
   "metadata": {},
   "outputs": [],
   "source": [
    "# Normality check for movies over 150mins\n",
    "norm_res=stats.normaltest(movie_150)\n",
    "norm_res"
   ]
  },
  {
   "cell_type": "code",
   "execution_count": null,
   "id": "b85eb17a-13ec-4026-9634-4d6d402dd296",
   "metadata": {},
   "outputs": [],
   "source": [
    "norm_res.pvalue<0.05"
   ]
  },
  {
   "cell_type": "markdown",
   "id": "5a952372-90fc-402e-8f78-4ebcfb3a5cac",
   "metadata": {},
   "source": [
    "- Distribution of movies over 150mins is not normal."
   ]
  },
  {
   "cell_type": "code",
   "execution_count": null,
   "id": "4c3006d4-8d15-4477-8127-0beadfd25fc1",
   "metadata": {},
   "outputs": [],
   "source": [
    "# Normality check for movies less than 90mins\n",
    "norm_res=stats.normaltest(movie_90)\n",
    "norm_res"
   ]
  },
  {
   "cell_type": "code",
   "execution_count": null,
   "id": "670db0d1-8d8c-4714-a464-b373141c070a",
   "metadata": {},
   "outputs": [],
   "source": [
    "norm_res.pvalue<0.05"
   ]
  },
  {
   "cell_type": "markdown",
   "id": "1154253c-3858-42de-8759-93417681cdb5",
   "metadata": {},
   "source": [
    "- Distribution of movies less than 90mins is not normal.\r\n",
    "- \n",
    "Althought the distributions of the two groups are not normal, we can enough sample size in both groups to satisfy the assumption"
   ]
  },
  {
   "cell_type": "markdown",
   "id": "1ac9bf9d-4f4c-4fd5-acac-8585ee344584",
   "metadata": {},
   "source": [
    "### Check for Equal Variance"
   ]
  },
  {
   "cell_type": "code",
   "execution_count": null,
   "id": "4e0986bd-2347-45a6-a415-525221f74617",
   "metadata": {},
   "outputs": [],
   "source": [
    "result = stats.levene(movie_150,movie_90)\n",
    "result"
   ]
  },
  {
   "cell_type": "code",
   "execution_count": null,
   "id": "46ac077b-d830-43ab-ab36-0bf9ec34cf58",
   "metadata": {},
   "outputs": [],
   "source": [
    "result.pvalue<0.05"
   ]
  },
  {
   "cell_type": "markdown",
   "id": "1234d7be-170b-4b49-ac20-f5451026ba8f",
   "metadata": {},
   "source": [
    "- The null hypothesis of the Levene's test is that the samples DO have equal variance.\r\n",
    "- \r\n",
    "Therefore, our significant p-value indicates that we do NOT have equal varaince\n",
    "- \r\n",
    "\r\n",
    "Therefore, we will run the Welch's t-test instead of the default (for scipy's ttest_ind change the equal_var argument to False)"
   ]
  },
  {
   "cell_type": "markdown",
   "id": "04bf180a-5ee3-4796-b3e7-25fbb9561c70",
   "metadata": {},
   "source": [
    "### Final Hypothiese Test"
   ]
  },
  {
   "cell_type": "code",
   "execution_count": null,
   "id": "14d89720-88f7-491d-872f-d9f75b282365",
   "metadata": {},
   "outputs": [],
   "source": [
    "# Since not equal variances, set equal_var =False\n",
    "result = stats.ttest_ind(movie_150,movie_90,equal_var=False)\n",
    "result"
   ]
  },
  {
   "cell_type": "code",
   "execution_count": null,
   "id": "581cffa9-2e29-4591-ae2c-3398d9c5381b",
   "metadata": {},
   "outputs": [],
   "source": [
    "result.pvalue<0.05"
   ]
  },
  {
   "cell_type": "markdown",
   "id": "36ba20b6-a469-4794-ae89-48aead28f07f",
   "metadata": {},
   "source": [
    "- Our Welch's T-Test returns a p-value < .05 therefore we can reject the null hypothesis and support the alternative hypothesis that There is a significant difference in revenue for movies that are over 150 mins and movies that are less than 90 mins.\r\n",
    "- \n",
    "In order to know which group has the higher or lower revenue, we look at the actual means of our final groups."
   ]
  },
  {
   "cell_type": "code",
   "execution_count": null,
   "id": "1c147401-e4c1-4ca1-9273-687648758334",
   "metadata": {},
   "outputs": [],
   "source": [
    "plt.bar(['Moives Over 150mins','Movies Less than 90mins'],[movie_150.mean(),movie_90.mean()]);"
   ]
  },
  {
   "cell_type": "markdown",
   "id": "96369aef-f1b7-41fc-8eb4-0ec21e440342",
   "metadata": {},
   "source": [
    "- Movies over 150 minutes have higher average revenue than movies that are less than 90 minutes."
   ]
  }
 ],
 "metadata": {
  "kernelspec": {
   "display_name": "Python 3 (ipykernel)",
   "language": "python",
   "name": "python3"
  },
  "language_info": {
   "codemirror_mode": {
    "name": "ipython",
    "version": 3
   },
   "file_extension": ".py",
   "mimetype": "text/x-python",
   "name": "python",
   "nbconvert_exporter": "python",
   "pygments_lexer": "ipython3",
   "version": "3.10.10"
  }
 },
 "nbformat": 4,
 "nbformat_minor": 5
}
