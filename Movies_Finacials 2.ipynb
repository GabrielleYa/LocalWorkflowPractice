{
 "cells": [
  {
   "cell_type": "code",
   "execution_count": null,
   "id": "cc896300-ea9e-41b8-8a59-2353f6f50870",
   "metadata": {},
   "outputs": [],
   "source": [
    "import tmdbsimple as tmdb\n",
    "import pandas as pd\n",
    "from tqdm.notebook import tqdm_notebook\n",
    "import json"
   ]
  },
  {
   "cell_type": "code",
   "execution_count": null,
   "id": "adeba856-04f4-4e52-a9f0-456a486925d7",
   "metadata": {},
   "outputs": [],
   "source": [
    "with open('api.json', 'r') as file:\n",
    "    login = json.load(file)\n",
    "tmdb.API_KEY = login['api-key']"
   ]
  },
  {
   "cell_type": "code",
   "execution_count": null,
   "id": "6d8aad6c-06cb-46c9-96b2-f742e0918954",
   "metadata": {},
   "outputs": [],
   "source": [
    "titles = pd.read_csv(\"Data/refined_basics.csv\", low_memory=False)\n",
    "titles"
   ]
  },
  {
   "cell_type": "code",
   "execution_count": null,
   "id": "95cdc720-0349-4b81-aa31-de527abc23ce",
   "metadata": {},
   "outputs": [],
   "source": [
    "def get_movie_with_rating(movie_id):\n",
    "    movie = tmdb.Movies(movie_id)\n",
    "    info = movie.info()\n",
    "    releases = movie.releases()\n",
    "    for country in releases['countries']:\n",
    "        if country['iso_3166_1'] == 'US':\n",
    "            info['certification'] = country['certification']\n",
    "    return info"
   ]
  },
  {
   "cell_type": "code",
   "execution_count": null,
   "id": "db7eb192-c733-416d-8b06-05b7380bfa30",
   "metadata": {},
   "outputs": [],
   "source": [
    "get_movie_with_rating(601)"
   ]
  },
  {
   "cell_type": "code",
   "execution_count": null,
   "id": "36a29137-2ca1-4352-b371-d54acc6a06f2",
   "metadata": {},
   "outputs": [],
   "source": [
    "test_ids = titles['tconst']"
   ]
  },
  {
   "cell_type": "code",
   "execution_count": null,
   "id": "536f95a1-d30d-48d5-ad12-ce5ce09e4607",
   "metadata": {},
   "outputs": [],
   "source": [
    "results = []\n",
    "budget = []\n",
    "revenue = []\n",
    "certification = []\n",
    "errors = []"
   ]
  },
  {
   "cell_type": "code",
   "execution_count": null,
   "id": "e8414826-43c3-4e8e-b520-b006c48ede54",
   "metadata": {},
   "outputs": [],
   "source": [
    "for movie_id in tqdm_notebook(test_ids):\n",
    "    try:\n",
    "        movie_info = get_movie_with_rating(movie_id)\n",
    "        budget.append(movie_info['budget'])\n",
    "        revenue.append(movie_info['revenue'])\n",
    "        certification.append(movie_info['certification'])\n",
    "    except Exception as e:\n",
    "        errors.append([movie_id, e])"
   ]
  },
  {
   "cell_type": "code",
   "execution_count": null,
   "id": "cac055e9-2644-4994-a7d5-25ce5e99c8d7",
   "metadata": {},
   "outputs": [],
   "source": [
    "results_series = pd.Series(results)"
   ]
  },
  {
   "cell_type": "code",
   "execution_count": null,
   "id": "ad932e6d-cad5-40be-b0a8-5add424edd4b",
   "metadata": {},
   "outputs": [],
   "source": [
    "budget_series = pd.Series(budget)"
   ]
  },
  {
   "cell_type": "code",
   "execution_count": null,
   "id": "97f7d1d3-968f-4211-994b-8768b4c96347",
   "metadata": {},
   "outputs": [],
   "source": [
    "revenue_series = pd.Series(revenue)"
   ]
  },
  {
   "cell_type": "code",
   "execution_count": null,
   "id": "d33d51a4-9dc2-4e62-a16e-12715d69e887",
   "metadata": {},
   "outputs": [],
   "source": [
    "certification_series = pd.Series(certification)"
   ]
  },
  {
   "cell_type": "code",
   "execution_count": null,
   "id": "b60dfbe6-d6f1-45d3-8968-8edd187aa1e1",
   "metadata": {},
   "outputs": [],
   "source": [
    "titles['budget'] = budget_series"
   ]
  },
  {
   "cell_type": "code",
   "execution_count": null,
   "id": "f1606550-4104-4cbd-9808-f837d234fb06",
   "metadata": {},
   "outputs": [],
   "source": [
    "titles['revenue'] = revenue_series"
   ]
  },
  {
   "cell_type": "code",
   "execution_count": null,
   "id": "d25ab3c3-7c91-4f0b-ba2e-05372c06fcd6",
   "metadata": {},
   "outputs": [],
   "source": [
    "titles['certification'] = certification_series"
   ]
  },
  {
   "cell_type": "code",
   "execution_count": null,
   "id": "6c1308c9-d4e8-404c-9fcb-ca6a53282966",
   "metadata": {},
   "outputs": [],
   "source": [
    "titles"
   ]
  },
  {
   "cell_type": "code",
   "execution_count": null,
   "id": "7e803ae0-bac8-40b3-8fd8-e0e79f2cd4c8",
   "metadata": {},
   "outputs": [],
   "source": [
    "titles.to_csv(\"financials_included_movies.csv\")"
   ]
  }
 ],
 "metadata": {
  "kernelspec": {
   "display_name": "Python 3 (ipykernel)",
   "language": "python",
   "name": "python3"
  },
  "language_info": {
   "codemirror_mode": {
    "name": "ipython",
    "version": 3
   },
   "file_extension": ".py",
   "mimetype": "text/x-python",
   "name": "python",
   "nbconvert_exporter": "python",
   "pygments_lexer": "ipython3",
   "version": "3.10.10"
  }
 },
 "nbformat": 4,
 "nbformat_minor": 5
}
