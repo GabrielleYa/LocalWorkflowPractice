{
 "cells": [
  {
   "cell_type": "code",
   "execution_count": 1,
   "id": "57c0e390-c36a-480e-8435-b8aebaa436c8",
   "metadata": {},
   "outputs": [
    {
     "name": "stdout",
     "output_type": "stream",
     "text": [
      "Requirement already satisfied: tmdbsimple in c:\\users\\corte\\documentsanaconda3\\envs\\dojo-env\\lib\\site-packages (2.9.1)\n",
      "Requirement already satisfied: requests in c:\\users\\corte\\documentsanaconda3\\envs\\dojo-env\\lib\\site-packages (from tmdbsimple) (2.29.0)\n",
      "Requirement already satisfied: charset-normalizer<4,>=2 in c:\\users\\corte\\documentsanaconda3\\envs\\dojo-env\\lib\\site-packages (from requests->tmdbsimple) (2.0.4)\n",
      "Requirement already satisfied: idna<4,>=2.5 in c:\\users\\corte\\documentsanaconda3\\envs\\dojo-env\\lib\\site-packages (from requests->tmdbsimple) (3.4)\n",
      "Requirement already satisfied: urllib3<1.27,>=1.21.1 in c:\\users\\corte\\documentsanaconda3\\envs\\dojo-env\\lib\\site-packages (from requests->tmdbsimple) (1.26.15)\n",
      "Requirement already satisfied: certifi>=2017.4.17 in c:\\users\\corte\\documentsanaconda3\\envs\\dojo-env\\lib\\site-packages (from requests->tmdbsimple) (2023.5.7)\n"
     ]
    }
   ],
   "source": [
    "!pip install tmdbsimple"
   ]
  },
  {
   "cell_type": "code",
   "execution_count": 2,
   "id": "79103fa2-dce3-4de2-b3f1-ae4327471340",
   "metadata": {},
   "outputs": [],
   "source": [
    "import numpy as np\n",
    "import pandas as pd\n",
    "import seaborn as sns\n",
    "import matplotlib.pyplot as plt\n",
    "import os, json, math, time\n",
    "import tmdbsimple as tmdb\n",
    "FOLDER = \"Data/\"\n",
    "os.makedirs(FOLDER, exist_ok=True)\n",
    "os.listdir(FOLDER)\n",
    "from tqdm.notebook import tqdm_notebook\n",
    "pd.options.display.float_format = '{:,.2f}'.format"
   ]
  },
  {
   "cell_type": "code",
   "execution_count": 3,
   "id": "a0f57e25-14b3-445e-84bb-4a6d6ff1c147",
   "metadata": {},
   "outputs": [],
   "source": [
    "tmdb.API_KEY = \"2e7e239c25274c3cdc1060a9df22dfc7\""
   ]
  },
  {
   "cell_type": "code",
   "execution_count": 4,
   "id": "bb0d08a3-8d65-4b6a-a007-21c723b3652f",
   "metadata": {},
   "outputs": [],
   "source": [
    "def get_movie_with_rating(movie_id):\n",
    "    movie = tmdb.Movies(movie_id)\n",
    "    info = movie.info()\n",
    "    releases = movie.releases()\n",
    "    for country in releases['countries']:\n",
    "        if country['iso_3166_1'] == 'US':\n",
    "            info['certification'] = country['certification']\n",
    "    return info"
   ]
  },
  {
   "cell_type": "code",
   "execution_count": 5,
   "id": "616fa8b3-5d41-428c-95cd-bed543094e42",
   "metadata": {},
   "outputs": [
    {
     "data": {
      "text/plain": [
       "{'adult': False,\n",
       " 'backdrop_path': '/9Kg322bGsEbmp94LjCCVGz3cpNw.jpg',\n",
       " 'belongs_to_collection': None,\n",
       " 'budget': 10500000,\n",
       " 'genres': [{'id': 878, 'name': 'Science Fiction'},\n",
       "  {'id': 12, 'name': 'Adventure'},\n",
       "  {'id': 10751, 'name': 'Family'},\n",
       "  {'id': 14, 'name': 'Fantasy'}],\n",
       " 'homepage': 'http://www.et20.com/',\n",
       " 'id': 601,\n",
       " 'imdb_id': 'tt0083866',\n",
       " 'original_language': 'en',\n",
       " 'original_title': 'E.T. the Extra-Terrestrial',\n",
       " 'overview': 'An alien is left behind on Earth and saved by the 10-year-old Elliot who decides to keep him hidden in his home. While a task force hunts for the extra-terrestrial, Elliot, his brother, and his little sister Gertie form an emotional bond with their new friend, and try to help him find his way home.',\n",
       " 'popularity': 43.337,\n",
       " 'poster_path': '/an0nD6uq6byfxXCfk6lQBzdL2J1.jpg',\n",
       " 'production_companies': [{'id': 33,\n",
       "   'logo_path': '/8lvHyhjr8oUKOOy2dKXoALWKdp0.png',\n",
       "   'name': 'Universal Pictures',\n",
       "   'origin_country': 'US'},\n",
       "  {'id': 56,\n",
       "   'logo_path': '/cEaxANEisCqeEoRvODv2dO1I0iI.png',\n",
       "   'name': 'Amblin Entertainment',\n",
       "   'origin_country': 'US'}],\n",
       " 'production_countries': [{'iso_3166_1': 'US',\n",
       "   'name': 'United States of America'}],\n",
       " 'release_date': '1982-06-11',\n",
       " 'revenue': 792965500,\n",
       " 'runtime': 115,\n",
       " 'spoken_languages': [{'english_name': 'English',\n",
       "   'iso_639_1': 'en',\n",
       "   'name': 'English'}],\n",
       " 'status': 'Released',\n",
       " 'tagline': 'He is afraid. He is alone. He is three million light years from home.',\n",
       " 'title': 'E.T. the Extra-Terrestrial',\n",
       " 'video': False,\n",
       " 'vote_average': 7.514,\n",
       " 'vote_count': 10580,\n",
       " 'certification': ''}"
      ]
     },
     "execution_count": 5,
     "metadata": {},
     "output_type": "execute_result"
    }
   ],
   "source": [
    "get_movie_with_rating(601)"
   ]
  },
  {
   "cell_type": "code",
   "execution_count": 6,
   "id": "0196c5c9-8eb4-4441-8cc6-5200b08ac59d",
   "metadata": {},
   "outputs": [],
   "source": [
    "def write_json(new_data, filename): \n",
    "\n",
    "    with open(filename,'r+') as file:\n",
    "        # First we load existing data into a dict.\n",
    "        file_data = json.load(file)\n",
    "        ## Choose extend or append\n",
    "        if (type(new_data) == list) & (type(file_data) == list):\n",
    "            file_data.extend(new_data)\n",
    "        else:\n",
    "             file_data.append(new_data)\n",
    "        # Sets file's current position at offset.\n",
    "        file.seek(0)\n",
    "        # convert back to json.\n",
    "        json.dump(file_data, file)"
   ]
  },
  {
   "cell_type": "code",
   "execution_count": 7,
   "id": "d030480a-0933-4a8e-b6fc-ed90263f66c5",
   "metadata": {},
   "outputs": [],
   "source": [
    "basics = pd.read_csv(\"Data/refined_basics.csv\")"
   ]
  },
  {
   "cell_type": "code",
   "execution_count": 8,
   "id": "26beaf56-a2b0-4270-a04f-11e16d86bb24",
   "metadata": {},
   "outputs": [],
   "source": [
    "YEARS_TO_GET = [2001, 2002]\n",
    "errors = []"
   ]
  },
  {
   "cell_type": "code",
   "execution_count": 9,
   "id": "148c3c76-4d32-42fb-8772-8cd6853c8ccc",
   "metadata": {},
   "outputs": [
    {
     "data": {
      "application/vnd.jupyter.widget-view+json": {
       "model_id": "ba04c985b5f54aff999c975a04b6c287",
       "version_major": 2,
       "version_minor": 0
      },
      "text/plain": [
       "YEARS:   0%|          | 0/2 [00:00<?, ?it/s]"
      ]
     },
     "metadata": {},
     "output_type": "display_data"
    },
    {
     "name": "stdout",
     "output_type": "stream",
     "text": [
      "Creating Data/tmdb_api_results_2001.json for API results for 2001.\n"
     ]
    },
    {
     "data": {
      "application/vnd.jupyter.widget-view+json": {
       "model_id": "915c8c6c9fea42e1973345d0f81e3eb0",
       "version_major": 2,
       "version_minor": 0
      },
      "text/plain": [
       "Movies from 2001:   0%|          | 0/9753 [00:00<?, ?it/s]"
      ]
     },
     "metadata": {},
     "output_type": "display_data"
    },
    {
     "name": "stdout",
     "output_type": "stream",
     "text": [
      "Creating Data/tmdb_api_results_2002.json for API results for 2002.\n"
     ]
    },
    {
     "data": {
      "application/vnd.jupyter.widget-view+json": {
       "model_id": "b40e654a5b0640f993c8956d4688cd27",
       "version_major": 2,
       "version_minor": 0
      },
      "text/plain": [
       "Movies from 2002:   0%|          | 0/11149 [00:00<?, ?it/s]"
      ]
     },
     "metadata": {},
     "output_type": "display_data"
    }
   ],
   "source": [
    "for YEAR in tqdm_notebook(YEARS_TO_GET, desc=\"YEARS\", position=0):\n",
    "#Defining the JSON file to store results for year\n",
    "    JSON_FILE=F'{FOLDER}tmdb_api_results_{YEAR}.json'\n",
    "    #Check if file exists\n",
    "    file_exists = os.path.isfile(JSON_FILE)\n",
    "    #if it does not exist: create it\n",
    "    if file_exists==False:\n",
    "        #print a message indicating the file is being created\n",
    "        print(f\"Creating {JSON_FILE} for API results for {YEAR}.\")\n",
    "        #save an empty dict with just \"imdb_id\" to the new json file\n",
    "        with open(JSON_FILE,'w') as f:\n",
    "            json.dump([{'imdb_id':0}],f)\n",
    "        #Saving new year as the current df\n",
    "        df=basics.loc[basics[\"startYear\"]==YEAR].copy()\n",
    "        #saving movie ids to separate variable\n",
    "        movie_ids=df[\"tconst\"].copy()\n",
    "        movie_ids\n",
    "        \n",
    "        #load existing data from json into a dataframe alled \"previous_df\"\n",
    "        previous_df=pd.read_json(JSON_FILE)\n",
    "        \n",
    "        previous_df\n",
    "\n",
    "        #filter out any ids that are already in the JSON_FILE\n",
    "        movie_ids_to_get=movie_ids[~movie_ids.isin(previous_df['imdb_id'])]\n",
    "\n",
    "        #Loop through movie_ids_to_get with a tqdm progress bar\n",
    "        for movie_id in tqdm_notebook(movie_ids_to_get,\n",
    "                                      f\"Movies from {YEAR}\"):\n",
    "        \n",
    "            #get index and movie id from list\n",
    "            try:\n",
    "                #Retrieve then data for the movie id\n",
    "                temp=get_movie_with_rating(movie_id)\n",
    "                #append/extend results to existing fil using a pre_made function\n",
    "                write_json(temp,JSON_FILE)\n",
    "                #short 20 ms sleep to prevent overwhelming server\n",
    "                time.sleep(.02)\n",
    "        \n",
    "            except Exception as e:\n",
    "                errors.append([movie_id,e])\n",
    "                continue\n",
    "            final_year_df=pd.read_json(JSON_FILE)\n",
    "            final_year_df.to_csv(f\"{FOLDER}final_tmdb_data_{YEAR}.csv.gz\", compression=\"gzip\",index=False)"
   ]
  },
  {
   "cell_type": "code",
   "execution_count": 10,
   "id": "e1b66650-36b5-4960-a162-2c59f4db281b",
   "metadata": {},
   "outputs": [
    {
     "name": "stdout",
     "output_type": "stream",
     "text": [
      " - Total Errors occurred: 14615\n"
     ]
    }
   ],
   "source": [
    "print(f' - Total Errors occurred: {len(errors)}')"
   ]
  },
  {
   "cell_type": "code",
   "execution_count": 11,
   "id": "6db6fede-13e4-4893-b1a4-787a369b9f32",
   "metadata": {},
   "outputs": [
    {
     "data": {
      "text/plain": [
       "['Data\\\\final_tmdb_data_2001.csv.gz', 'Data\\\\final_tmdb_data_2002.csv.gz']"
      ]
     },
     "execution_count": 11,
     "metadata": {},
     "output_type": "execute_result"
    }
   ],
   "source": [
    "import glob\n",
    "tmdb_files = sorted(glob.glob(\"Data/final_tmdb_data*.csv.gz\"))\n",
    "tmdb_files"
   ]
  },
  {
   "cell_type": "code",
   "execution_count": 12,
   "id": "a330dfbb-1268-4a92-a640-af382934ae1a",
   "metadata": {},
   "outputs": [
    {
     "data": {
      "text/html": [
       "<div>\n",
       "<style scoped>\n",
       "    .dataframe tbody tr th:only-of-type {\n",
       "        vertical-align: middle;\n",
       "    }\n",
       "\n",
       "    .dataframe tbody tr th {\n",
       "        vertical-align: top;\n",
       "    }\n",
       "\n",
       "    .dataframe thead th {\n",
       "        text-align: right;\n",
       "    }\n",
       "</style>\n",
       "<table border=\"1\" class=\"dataframe\">\n",
       "  <thead>\n",
       "    <tr style=\"text-align: right;\">\n",
       "      <th></th>\n",
       "      <th>imdb_id</th>\n",
       "      <th>adult</th>\n",
       "      <th>backdrop_path</th>\n",
       "      <th>belongs_to_collection</th>\n",
       "      <th>budget</th>\n",
       "      <th>genres</th>\n",
       "      <th>homepage</th>\n",
       "      <th>id</th>\n",
       "      <th>original_language</th>\n",
       "      <th>original_title</th>\n",
       "      <th>...</th>\n",
       "      <th>revenue</th>\n",
       "      <th>runtime</th>\n",
       "      <th>spoken_languages</th>\n",
       "      <th>status</th>\n",
       "      <th>tagline</th>\n",
       "      <th>title</th>\n",
       "      <th>video</th>\n",
       "      <th>vote_average</th>\n",
       "      <th>vote_count</th>\n",
       "      <th>certification</th>\n",
       "    </tr>\n",
       "  </thead>\n",
       "  <tbody>\n",
       "    <tr>\n",
       "      <th>0</th>\n",
       "      <td>0</td>\n",
       "      <td>NaN</td>\n",
       "      <td>NaN</td>\n",
       "      <td>NaN</td>\n",
       "      <td>NaN</td>\n",
       "      <td>NaN</td>\n",
       "      <td>NaN</td>\n",
       "      <td>NaN</td>\n",
       "      <td>NaN</td>\n",
       "      <td>NaN</td>\n",
       "      <td>...</td>\n",
       "      <td>NaN</td>\n",
       "      <td>NaN</td>\n",
       "      <td>NaN</td>\n",
       "      <td>NaN</td>\n",
       "      <td>NaN</td>\n",
       "      <td>NaN</td>\n",
       "      <td>NaN</td>\n",
       "      <td>NaN</td>\n",
       "      <td>NaN</td>\n",
       "      <td>NaN</td>\n",
       "    </tr>\n",
       "    <tr>\n",
       "      <th>1</th>\n",
       "      <td>tt0034413</td>\n",
       "      <td>0.00</td>\n",
       "      <td>NaN</td>\n",
       "      <td>NaN</td>\n",
       "      <td>0.00</td>\n",
       "      <td>[{'id': 99, 'name': 'Documentary'}]</td>\n",
       "      <td>NaN</td>\n",
       "      <td>1,022,890.00</td>\n",
       "      <td>en</td>\n",
       "      <td>Youth Gets a Break</td>\n",
       "      <td>...</td>\n",
       "      <td>0.00</td>\n",
       "      <td>20.00</td>\n",
       "      <td>[]</td>\n",
       "      <td>Released</td>\n",
       "      <td>NaN</td>\n",
       "      <td>Youth Gets a Break</td>\n",
       "      <td>0.00</td>\n",
       "      <td>0.00</td>\n",
       "      <td>0.00</td>\n",
       "      <td>NaN</td>\n",
       "    </tr>\n",
       "    <tr>\n",
       "      <th>2</th>\n",
       "      <td>tt0035423</td>\n",
       "      <td>0.00</td>\n",
       "      <td>/tJLV3BAlHOgscVOrA99Wnb2gAef.jpg</td>\n",
       "      <td>NaN</td>\n",
       "      <td>48,000,000.00</td>\n",
       "      <td>[{'id': 10749, 'name': 'Romance'}, {'id': 14, ...</td>\n",
       "      <td>NaN</td>\n",
       "      <td>11,232.00</td>\n",
       "      <td>en</td>\n",
       "      <td>Kate &amp; Leopold</td>\n",
       "      <td>...</td>\n",
       "      <td>76,019,048.00</td>\n",
       "      <td>118.00</td>\n",
       "      <td>[{'english_name': 'French', 'iso_639_1': 'fr',...</td>\n",
       "      <td>Released</td>\n",
       "      <td>If they lived in the same century, they'd be p...</td>\n",
       "      <td>Kate &amp; Leopold</td>\n",
       "      <td>0.00</td>\n",
       "      <td>6.33</td>\n",
       "      <td>1,245.00</td>\n",
       "      <td>PG-13</td>\n",
       "    </tr>\n",
       "    <tr>\n",
       "      <th>3</th>\n",
       "      <td>tt0114447</td>\n",
       "      <td>0.00</td>\n",
       "      <td>NaN</td>\n",
       "      <td>NaN</td>\n",
       "      <td>0.00</td>\n",
       "      <td>[{'id': 53, 'name': 'Thriller'}, {'id': 28, 'n...</td>\n",
       "      <td>NaN</td>\n",
       "      <td>151,007.00</td>\n",
       "      <td>en</td>\n",
       "      <td>The Silent Force</td>\n",
       "      <td>...</td>\n",
       "      <td>0.00</td>\n",
       "      <td>90.00</td>\n",
       "      <td>[{'english_name': 'English', 'iso_639_1': 'en'...</td>\n",
       "      <td>Released</td>\n",
       "      <td>They left him for dead... They should have fin...</td>\n",
       "      <td>The Silent Force</td>\n",
       "      <td>0.00</td>\n",
       "      <td>5.00</td>\n",
       "      <td>3.00</td>\n",
       "      <td>NaN</td>\n",
       "    </tr>\n",
       "    <tr>\n",
       "      <th>4</th>\n",
       "      <td>tt0116916</td>\n",
       "      <td>0.00</td>\n",
       "      <td>/rFpHBidSlhjflmnLu7BZilyKeQR.jpg</td>\n",
       "      <td>NaN</td>\n",
       "      <td>0.00</td>\n",
       "      <td>[{'id': 28, 'name': 'Action'}, {'id': 12, 'nam...</td>\n",
       "      <td>NaN</td>\n",
       "      <td>73,549.00</td>\n",
       "      <td>en</td>\n",
       "      <td>The Dark Mist</td>\n",
       "      <td>...</td>\n",
       "      <td>0.00</td>\n",
       "      <td>101.00</td>\n",
       "      <td>[{'english_name': 'English', 'iso_639_1': 'en'...</td>\n",
       "      <td>Released</td>\n",
       "      <td>NaN</td>\n",
       "      <td>The Dark Mist</td>\n",
       "      <td>0.00</td>\n",
       "      <td>3.50</td>\n",
       "      <td>2.00</td>\n",
       "      <td>PG</td>\n",
       "    </tr>\n",
       "    <tr>\n",
       "      <th>...</th>\n",
       "      <td>...</td>\n",
       "      <td>...</td>\n",
       "      <td>...</td>\n",
       "      <td>...</td>\n",
       "      <td>...</td>\n",
       "      <td>...</td>\n",
       "      <td>...</td>\n",
       "      <td>...</td>\n",
       "      <td>...</td>\n",
       "      <td>...</td>\n",
       "      <td>...</td>\n",
       "      <td>...</td>\n",
       "      <td>...</td>\n",
       "      <td>...</td>\n",
       "      <td>...</td>\n",
       "      <td>...</td>\n",
       "      <td>...</td>\n",
       "      <td>...</td>\n",
       "      <td>...</td>\n",
       "      <td>...</td>\n",
       "      <td>...</td>\n",
       "    </tr>\n",
       "    <tr>\n",
       "      <th>3264</th>\n",
       "      <td>tt9518992</td>\n",
       "      <td>0.00</td>\n",
       "      <td>NaN</td>\n",
       "      <td>NaN</td>\n",
       "      <td>0.00</td>\n",
       "      <td>[{'id': 28, 'name': 'Action'}, {'id': 53, 'nam...</td>\n",
       "      <td>NaN</td>\n",
       "      <td>1,050,724.00</td>\n",
       "      <td>en</td>\n",
       "      <td>Killing Skill</td>\n",
       "      <td>...</td>\n",
       "      <td>0.00</td>\n",
       "      <td>90.00</td>\n",
       "      <td>[{'english_name': 'Cantonese', 'iso_639_1': 'c...</td>\n",
       "      <td>Released</td>\n",
       "      <td>NaN</td>\n",
       "      <td>Killing Skill</td>\n",
       "      <td>0.00</td>\n",
       "      <td>0.00</td>\n",
       "      <td>0.00</td>\n",
       "      <td>NaN</td>\n",
       "    </tr>\n",
       "    <tr>\n",
       "      <th>3265</th>\n",
       "      <td>tt9606526</td>\n",
       "      <td>0.00</td>\n",
       "      <td>NaN</td>\n",
       "      <td>NaN</td>\n",
       "      <td>0.00</td>\n",
       "      <td>[{'id': 99, 'name': 'Documentary'}]</td>\n",
       "      <td>NaN</td>\n",
       "      <td>397,979.00</td>\n",
       "      <td>es</td>\n",
       "      <td>1932: Cicatriz de la memoria</td>\n",
       "      <td>...</td>\n",
       "      <td>0.00</td>\n",
       "      <td>54.00</td>\n",
       "      <td>[]</td>\n",
       "      <td>Released</td>\n",
       "      <td>NaN</td>\n",
       "      <td>1932: Scars of Memory</td>\n",
       "      <td>0.00</td>\n",
       "      <td>0.00</td>\n",
       "      <td>0.00</td>\n",
       "      <td>NaN</td>\n",
       "    </tr>\n",
       "    <tr>\n",
       "      <th>3266</th>\n",
       "      <td>tt9660174</td>\n",
       "      <td>0.00</td>\n",
       "      <td>NaN</td>\n",
       "      <td>NaN</td>\n",
       "      <td>0.00</td>\n",
       "      <td>[{'id': 99, 'name': 'Documentary'}]</td>\n",
       "      <td>http://www.cobra-films.be/ftedetails.php?id=33</td>\n",
       "      <td>505,735.00</td>\n",
       "      <td>fr</td>\n",
       "      <td>Racines lointaines</td>\n",
       "      <td>...</td>\n",
       "      <td>0.00</td>\n",
       "      <td>72.00</td>\n",
       "      <td>[{'english_name': 'French', 'iso_639_1': 'fr',...</td>\n",
       "      <td>Released</td>\n",
       "      <td>NaN</td>\n",
       "      <td>Faraway Roots</td>\n",
       "      <td>0.00</td>\n",
       "      <td>0.00</td>\n",
       "      <td>0.00</td>\n",
       "      <td>NaN</td>\n",
       "    </tr>\n",
       "    <tr>\n",
       "      <th>3267</th>\n",
       "      <td>tt9686338</td>\n",
       "      <td>0.00</td>\n",
       "      <td>NaN</td>\n",
       "      <td>NaN</td>\n",
       "      <td>0.00</td>\n",
       "      <td>[]</td>\n",
       "      <td>NaN</td>\n",
       "      <td>301,736.00</td>\n",
       "      <td>en</td>\n",
       "      <td>A Tom Tom Chaser</td>\n",
       "      <td>...</td>\n",
       "      <td>0.00</td>\n",
       "      <td>11.00</td>\n",
       "      <td>[]</td>\n",
       "      <td>Released</td>\n",
       "      <td>NaN</td>\n",
       "      <td>A Tom Tom Chaser</td>\n",
       "      <td>0.00</td>\n",
       "      <td>0.00</td>\n",
       "      <td>0.00</td>\n",
       "      <td>NaN</td>\n",
       "    </tr>\n",
       "    <tr>\n",
       "      <th>3268</th>\n",
       "      <td>tt9753394</td>\n",
       "      <td>0.00</td>\n",
       "      <td>NaN</td>\n",
       "      <td>NaN</td>\n",
       "      <td>0.00</td>\n",
       "      <td>[]</td>\n",
       "      <td>NaN</td>\n",
       "      <td>302,046.00</td>\n",
       "      <td>en</td>\n",
       "      <td>Secret History of the Dividing Line</td>\n",
       "      <td>...</td>\n",
       "      <td>0.00</td>\n",
       "      <td>20.00</td>\n",
       "      <td>[]</td>\n",
       "      <td>Released</td>\n",
       "      <td>NaN</td>\n",
       "      <td>Secret History of the Dividing Line</td>\n",
       "      <td>0.00</td>\n",
       "      <td>5.00</td>\n",
       "      <td>1.00</td>\n",
       "      <td>NaN</td>\n",
       "    </tr>\n",
       "  </tbody>\n",
       "</table>\n",
       "<p>6289 rows × 26 columns</p>\n",
       "</div>"
      ],
      "text/plain": [
       "        imdb_id  adult                     backdrop_path  \\\n",
       "0             0    NaN                               NaN   \n",
       "1     tt0034413   0.00                               NaN   \n",
       "2     tt0035423   0.00  /tJLV3BAlHOgscVOrA99Wnb2gAef.jpg   \n",
       "3     tt0114447   0.00                               NaN   \n",
       "4     tt0116916   0.00  /rFpHBidSlhjflmnLu7BZilyKeQR.jpg   \n",
       "...         ...    ...                               ...   \n",
       "3264  tt9518992   0.00                               NaN   \n",
       "3265  tt9606526   0.00                               NaN   \n",
       "3266  tt9660174   0.00                               NaN   \n",
       "3267  tt9686338   0.00                               NaN   \n",
       "3268  tt9753394   0.00                               NaN   \n",
       "\n",
       "     belongs_to_collection        budget  \\\n",
       "0                      NaN           NaN   \n",
       "1                      NaN          0.00   \n",
       "2                      NaN 48,000,000.00   \n",
       "3                      NaN          0.00   \n",
       "4                      NaN          0.00   \n",
       "...                    ...           ...   \n",
       "3264                   NaN          0.00   \n",
       "3265                   NaN          0.00   \n",
       "3266                   NaN          0.00   \n",
       "3267                   NaN          0.00   \n",
       "3268                   NaN          0.00   \n",
       "\n",
       "                                                 genres  \\\n",
       "0                                                   NaN   \n",
       "1                   [{'id': 99, 'name': 'Documentary'}]   \n",
       "2     [{'id': 10749, 'name': 'Romance'}, {'id': 14, ...   \n",
       "3     [{'id': 53, 'name': 'Thriller'}, {'id': 28, 'n...   \n",
       "4     [{'id': 28, 'name': 'Action'}, {'id': 12, 'nam...   \n",
       "...                                                 ...   \n",
       "3264  [{'id': 28, 'name': 'Action'}, {'id': 53, 'nam...   \n",
       "3265                [{'id': 99, 'name': 'Documentary'}]   \n",
       "3266                [{'id': 99, 'name': 'Documentary'}]   \n",
       "3267                                                 []   \n",
       "3268                                                 []   \n",
       "\n",
       "                                            homepage           id  \\\n",
       "0                                                NaN          NaN   \n",
       "1                                                NaN 1,022,890.00   \n",
       "2                                                NaN    11,232.00   \n",
       "3                                                NaN   151,007.00   \n",
       "4                                                NaN    73,549.00   \n",
       "...                                              ...          ...   \n",
       "3264                                             NaN 1,050,724.00   \n",
       "3265                                             NaN   397,979.00   \n",
       "3266  http://www.cobra-films.be/ftedetails.php?id=33   505,735.00   \n",
       "3267                                             NaN   301,736.00   \n",
       "3268                                             NaN   302,046.00   \n",
       "\n",
       "     original_language                       original_title  ...  \\\n",
       "0                  NaN                                  NaN  ...   \n",
       "1                   en                   Youth Gets a Break  ...   \n",
       "2                   en                       Kate & Leopold  ...   \n",
       "3                   en                     The Silent Force  ...   \n",
       "4                   en                        The Dark Mist  ...   \n",
       "...                ...                                  ...  ...   \n",
       "3264                en                        Killing Skill  ...   \n",
       "3265                es         1932: Cicatriz de la memoria  ...   \n",
       "3266                fr                   Racines lointaines  ...   \n",
       "3267                en                     A Tom Tom Chaser  ...   \n",
       "3268                en  Secret History of the Dividing Line  ...   \n",
       "\n",
       "           revenue  runtime  \\\n",
       "0              NaN      NaN   \n",
       "1             0.00    20.00   \n",
       "2    76,019,048.00   118.00   \n",
       "3             0.00    90.00   \n",
       "4             0.00   101.00   \n",
       "...            ...      ...   \n",
       "3264          0.00    90.00   \n",
       "3265          0.00    54.00   \n",
       "3266          0.00    72.00   \n",
       "3267          0.00    11.00   \n",
       "3268          0.00    20.00   \n",
       "\n",
       "                                       spoken_languages    status  \\\n",
       "0                                                   NaN       NaN   \n",
       "1                                                    []  Released   \n",
       "2     [{'english_name': 'French', 'iso_639_1': 'fr',...  Released   \n",
       "3     [{'english_name': 'English', 'iso_639_1': 'en'...  Released   \n",
       "4     [{'english_name': 'English', 'iso_639_1': 'en'...  Released   \n",
       "...                                                 ...       ...   \n",
       "3264  [{'english_name': 'Cantonese', 'iso_639_1': 'c...  Released   \n",
       "3265                                                 []  Released   \n",
       "3266  [{'english_name': 'French', 'iso_639_1': 'fr',...  Released   \n",
       "3267                                                 []  Released   \n",
       "3268                                                 []  Released   \n",
       "\n",
       "                                                tagline  \\\n",
       "0                                                   NaN   \n",
       "1                                                   NaN   \n",
       "2     If they lived in the same century, they'd be p...   \n",
       "3     They left him for dead... They should have fin...   \n",
       "4                                                   NaN   \n",
       "...                                                 ...   \n",
       "3264                                                NaN   \n",
       "3265                                                NaN   \n",
       "3266                                                NaN   \n",
       "3267                                                NaN   \n",
       "3268                                                NaN   \n",
       "\n",
       "                                    title  video  vote_average vote_count  \\\n",
       "0                                     NaN    NaN           NaN        NaN   \n",
       "1                      Youth Gets a Break   0.00          0.00       0.00   \n",
       "2                          Kate & Leopold   0.00          6.33   1,245.00   \n",
       "3                        The Silent Force   0.00          5.00       3.00   \n",
       "4                           The Dark Mist   0.00          3.50       2.00   \n",
       "...                                   ...    ...           ...        ...   \n",
       "3264                        Killing Skill   0.00          0.00       0.00   \n",
       "3265                1932: Scars of Memory   0.00          0.00       0.00   \n",
       "3266                        Faraway Roots   0.00          0.00       0.00   \n",
       "3267                     A Tom Tom Chaser   0.00          0.00       0.00   \n",
       "3268  Secret History of the Dividing Line   0.00          5.00       1.00   \n",
       "\n",
       "     certification  \n",
       "0              NaN  \n",
       "1              NaN  \n",
       "2            PG-13  \n",
       "3              NaN  \n",
       "4               PG  \n",
       "...            ...  \n",
       "3264           NaN  \n",
       "3265           NaN  \n",
       "3266           NaN  \n",
       "3267           NaN  \n",
       "3268           NaN  \n",
       "\n",
       "[6289 rows x 26 columns]"
      ]
     },
     "execution_count": 12,
     "metadata": {},
     "output_type": "execute_result"
    }
   ],
   "source": [
    "df = pd.concat([pd.read_csv(f) for f in tmdb_files] )\n",
    "df"
   ]
  },
  {
   "cell_type": "code",
   "execution_count": 13,
   "id": "65324705-8680-4d09-9c66-34f9e6a7f4ac",
   "metadata": {},
   "outputs": [
    {
     "name": "stdout",
     "output_type": "stream",
     "text": [
      "<class 'pandas.core.frame.DataFrame'>\n",
      "Int64Index: 6289 entries, 0 to 3268\n",
      "Data columns (total 26 columns):\n",
      " #   Column                 Non-Null Count  Dtype  \n",
      "---  ------                 --------------  -----  \n",
      " 0   imdb_id                6289 non-null   object \n",
      " 1   adult                  6287 non-null   float64\n",
      " 2   backdrop_path          2447 non-null   object \n",
      " 3   belongs_to_collection  457 non-null    object \n",
      " 4   budget                 6287 non-null   float64\n",
      " 5   genres                 6287 non-null   object \n",
      " 6   homepage               481 non-null    object \n",
      " 7   id                     6287 non-null   float64\n",
      " 8   original_language      6287 non-null   object \n",
      " 9   original_title         6287 non-null   object \n",
      " 10  overview               6109 non-null   object \n",
      " 11  popularity             6287 non-null   float64\n",
      " 12  poster_path            5278 non-null   object \n",
      " 13  production_companies   6287 non-null   object \n",
      " 14  production_countries   6287 non-null   object \n",
      " 15  release_date           6146 non-null   object \n",
      " 16  revenue                6287 non-null   float64\n",
      " 17  runtime                6287 non-null   float64\n",
      " 18  spoken_languages       6287 non-null   object \n",
      " 19  status                 6287 non-null   object \n",
      " 20  tagline                1989 non-null   object \n",
      " 21  title                  6287 non-null   object \n",
      " 22  video                  6287 non-null   float64\n",
      " 23  vote_average           6287 non-null   float64\n",
      " 24  vote_count             6287 non-null   float64\n",
      " 25  certification          1813 non-null   object \n",
      "dtypes: float64(9), object(17)\n",
      "memory usage: 1.3+ MB\n"
     ]
    }
   ],
   "source": [
    "df.info()"
   ]
  },
  {
   "cell_type": "code",
   "execution_count": 23,
   "id": "c864403d-445b-48c2-85b6-2401edf44f50",
   "metadata": {},
   "outputs": [],
   "source": [
    "df.to_csv(f\"tmdb_results_combined.csv.gz\", compression=\"gzip\",index=False)"
   ]
  },
  {
   "cell_type": "markdown",
   "id": "4874230a-aaf8-48b2-83bb-314053edc25e",
   "metadata": {},
   "source": [
    "## How many movies are there in each of the certification categories?"
   ]
  },
  {
   "cell_type": "code",
   "execution_count": 15,
   "id": "ca6cf61f-8800-4050-99bf-40ddc4dd463e",
   "metadata": {},
   "outputs": [
    {
     "data": {
      "image/png": "[encoded data removed]",
      "text/plain": [
       "<Figure size 640x480 with 1 Axes>"
      ]
     },
     "metadata": {},
     "output_type": "display_data"
    }
   ],
   "source": [
    "order = df['certification'].value_counts().index\n",
    "ax = sns.countplot(data=df, x='certification', order=order)\n",
    "ax.set_xticklabels(ax.get_xticklabels(), rotation=90);"
   ]
  },
  {
   "cell_type": "code",
   "execution_count": 16,
   "id": "b210f63f-1d6c-47c8-acdd-49dbd3da8b69",
   "metadata": {},
   "outputs": [
    {
     "name": "stdout",
     "output_type": "stream",
     "text": [
      "R certifications has 596 movies.\n",
      "NC-17 certifications has 380 movies.\n",
      "NR certifications has 338 movies.\n",
      "PG-13 certifications has 240 movies.\n",
      "G certifications has 129 movies.\n",
      "PG certifications has 123 movies.\n",
      "X certifications has 7 movies.\n"
     ]
    }
   ],
   "source": [
    "certification_count = df['certification'].value_counts()\n",
    "r = 0\n",
    "for value in certification_count.index:\n",
    "    print(f\"{value} certifications has {certification_count.values[r]} movies.\")\n",
    "    r += 1"
   ]
  },
  {
   "cell_type": "markdown",
   "id": "58416718-66a6-4c8b-a31c-d45754382b01",
   "metadata": {},
   "source": [
    "### How many movies had at least some valid financial information (values > 0 for budget OR revenue)?"
   ]
  },
  {
   "cell_type": "code",
   "execution_count": 17,
   "id": "47a3704b-c094-44a1-96b9-91baf67711ce",
   "metadata": {},
   "outputs": [
    {
     "data": {
      "text/plain": [
       "870"
      ]
     },
     "execution_count": 17,
     "metadata": {},
     "output_type": "execute_result"
    }
   ],
   "source": [
    "movies_with_financials = (df['revenue'] > 0) | (df['budget'] > 0)\n",
    "movies_with_financials.sum()"
   ]
  },
  {
   "cell_type": "markdown",
   "id": "9643813e-fadd-4105-a045-b5257ee2a40c",
   "metadata": {},
   "source": [
    "There are 727 movies that had valid financial information for either revenue or budget."
   ]
  },
  {
   "cell_type": "markdown",
   "id": "5248a437-0556-44c1-9ead-6924bb425742",
   "metadata": {},
   "source": [
    "### What is the average revenue per certification category?"
   ]
  },
  {
   "cell_type": "code",
   "execution_count": 18,
   "id": "cdd19964-935f-4977-b2d5-a53bf5b4cd25",
   "metadata": {},
   "outputs": [
    {
     "data": {
      "image/png": "[encoded data removed]",
      "text/plain": [
       "<Figure size 640x480 with 1 Axes>"
      ]
     },
     "metadata": {},
     "output_type": "display_data"
    }
   ],
   "source": [
    "ax = sns.barplot(data=df, x='certification', y='revenue')\n",
    "ax.set_xticklabels(ax.get_xticklabels(), rotation=90);\n",
    "ax.set(title=\"Average Revenue Per Certification\");"
   ]
  },
  {
   "cell_type": "code",
   "execution_count": 19,
   "id": "7690afcb-d981-4e61-8e1b-28d66fb7bcdd",
   "metadata": {},
   "outputs": [],
   "source": [
    "certification_group = df.groupby('certification')"
   ]
  },
  {
   "cell_type": "code",
   "execution_count": 20,
   "id": "7653929b-ae9f-41fb-be7b-49807b97e500",
   "metadata": {},
   "outputs": [
    {
     "data": {
      "text/plain": [
       "certification\n",
       "G       12,745,472.05\n",
       "NC-17            0.00\n",
       "NR         171,273.75\n",
       "PG      50,128,218.84\n",
       "PG-13   55,776,057.98\n",
       "R       10,578,655.06\n",
       "X                0.00\n",
       "Name: revenue, dtype: float64"
      ]
     },
     "execution_count": 20,
     "metadata": {},
     "output_type": "execute_result"
    }
   ],
   "source": [
    "certification_group['revenue'].mean()"
   ]
  },
  {
   "cell_type": "code",
   "execution_count": 21,
   "id": "1d7d482a-ffa9-4676-8557-0bb00f1f7d88",
   "metadata": {},
   "outputs": [
    {
     "data": {
      "image/png": "[encoded data removed]",
      "text/plain": [
       "<Figure size 640x480 with 1 Axes>"
      ]
     },
     "metadata": {},
     "output_type": "display_data"
    }
   ],
   "source": [
    "ax = sns.barplot(data=df, x='certification', y='budget')\n",
    "ax.set_xticklabels(ax.get_xticklabels(), rotation=90);"
   ]
  },
  {
   "cell_type": "code",
   "execution_count": 22,
   "id": "9ebe9452-a4c9-4a8c-9524-adfb63277740",
   "metadata": {},
   "outputs": [
    {
     "data": {
      "text/plain": [
       "certification\n",
       "G        4,394,320.66\n",
       "NC-17           65.79\n",
       "NR         115,455.80\n",
       "PG      14,389,611.83\n",
       "PG-13   22,793,911.82\n",
       "R        6,798,530.60\n",
       "X                0.00\n",
       "Name: budget, dtype: float64"
      ]
     },
     "execution_count": 22,
     "metadata": {},
     "output_type": "execute_result"
    }
   ],
   "source": [
    "budget_group = df.groupby('budget')\n",
    "certification_group['budget'].mean()"
   ]
  }
 ],
 "metadata": {
  "kernelspec": {
   "display_name": "Python 3 (ipykernel)",
   "language": "python",
   "name": "python3"
  },
  "language_info": {
   "codemirror_mode": {
    "name": "ipython",
    "version": 3
   },
   "file_extension": ".py",
   "mimetype": "text/x-python",
   "name": "python",
   "nbconvert_exporter": "python",
   "pygments_lexer": "ipython3",
   "version": "3.10.10"
  }
 },
 "nbformat": 4,
 "nbformat_minor": 5
}
