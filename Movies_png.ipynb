{
 "cells": [
  {
   "cell_type": "markdown",
   "id": "3d27ea92-43e6-40a0-9971-33a46c69835c",
   "metadata": {},
   "source": [
    "![png](movies.png)\r\n"
   ]
  },
  {
   "cell_type": "code",
   "execution_count": null,
   "id": "af7db391-382e-4b54-874e-9c22835206b8",
   "metadata": {},
   "outputs": [],
   "source": []
  }
 ],
 "metadata": {
  "kernelspec": {
   "display_name": "Python 3 (ipykernel)",
   "language": "python",
   "name": "python3"
  },
  "language_info": {
   "codemirror_mode": {
    "name": "ipython",
    "version": 3
   },
   "file_extension": ".py",
   "mimetype": "text/x-python",
   "name": "python",
   "nbconvert_exporter": "python",
   "pygments_lexer": "ipython3",
   "version": "3.10.10"
  }
 },
 "nbformat": 4,
 "nbformat_minor": 5
}
